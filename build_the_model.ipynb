{
  "nbformat": 4,
  "nbformat_minor": 0,
  "metadata": {
    "colab": {
      "name": "build_the_model.ipynb",
      "provenance": []
    },
    "kernelspec": {
      "name": "python3",
      "display_name": "Python 3"
    },
    "accelerator": "GPU"
  },
  "cells": [
    {
      "cell_type": "markdown",
      "metadata": {
        "id": "ojbC7Q3ZgutZ",
        "colab_type": "text"
      },
      "source": [
        "##Creating the model"
      ]
    },
    {
      "cell_type": "markdown",
      "metadata": {
        "id": "wtw02SHugy08",
        "colab_type": "text"
      },
      "source": [
        "#Importing packages"
      ]
    },
    {
      "cell_type": "code",
      "metadata": {
        "id": "aJh15Zr7C4id",
        "colab_type": "code",
        "outputId": "b022ae5c-66b6-440e-a7ba-f9f38f521292",
        "colab": {
          "base_uri": "https://localhost:8080/",
          "height": 34
        }
      },
      "source": [
        "try:\n",
        "  # %tensorflow_version only exists in Colab.\n",
        "  %tensorflow_version 2.x\n",
        "except Exception:\n",
        "  pass\n",
        "import tensorflow as tf\n",
        "\n",
        "keras = tf.keras"
      ],
      "execution_count": 0,
      "outputs": [
        {
          "output_type": "stream",
          "text": [
            "TensorFlow 2.x selected.\n"
          ],
          "name": "stdout"
        }
      ]
    },
    {
      "cell_type": "markdown",
      "metadata": {
        "id": "uo3jrZqhhAPM",
        "colab_type": "text"
      },
      "source": [
        "To have balanced training data we need to pick equal amount of examples of each class"
      ]
    },
    {
      "cell_type": "code",
      "metadata": {
        "id": "8z2ZRFpRBQq3",
        "colab_type": "code",
        "outputId": "9e52be33-753e-4429-a9ce-121ba9111e5c",
        "colab": {
          "base_uri": "https://localhost:8080/",
          "height": 122
        }
      },
      "source": [
        "from google.colab import drive\n",
        "import pandas as pd\n",
        "from PIL import Image\n",
        "import matplotlib.pyplot as plt\n",
        "import numpy as np\n",
        "import os\n",
        "drive.mount('/content/gdrive')\n",
        "os.chdir(r'/content/gdrive/My Drive')\n",
        "#create training, test, eval datasets\n",
        "\n",
        "def cr_training():\n",
        "  df=pd.read_csv('./contest/images_labelling.csv')\n",
        "  data_train=pd.DataFrame()\n",
        "\n",
        "  for i in range(25):\n",
        "    data_train=data_train.append(df[df['label']==i].copy(deep=False)[0:125])\n",
        "\n",
        "  for x in data_train['boxid']:\n",
        "    foto=Image.open('./contest/images/'+str(x)+'.png')\n",
        "    foto = np.asarray( foto, dtype=\"float32\")\n",
        "    foto = (foto/127.5-1)\n",
        "    image = tf.image.resize(foto, (83,45))\n",
        "    label =data_train[data_train['boxid']==x]['label']\n",
        "    yield (image,label)\n",
        "\n",
        "def cr_test():\n",
        "  df=pd.read_csv('./contest/images_labelling.csv')\n",
        "  data_test=pd.DataFrame()\n",
        "\n",
        "  for i in range(25):\n",
        "    data_test=data_test.append(df[df['label']==i].copy(deep=False)[130:150])\n",
        "\n",
        "  for x in data_test['boxid']:\n",
        "    foto=Image.open('./contest/images/'+str(x)+'.png')\n",
        "    foto = np.asarray( foto, dtype=\"float32\")\n",
        "    foto = (foto/127.5-1)\n",
        "    image = tf.image.resize(foto, (83,45))\n",
        "    label =data_test[data_test['boxid']==x]['label']\n",
        "    yield (image,label)\n",
        "\n",
        "def cr_eval():\n",
        "  df=pd.read_csv('./contest/images_labelling.csv')\n",
        "  data_eval=pd.DataFrame()\n",
        "\n",
        "  for i in range(25):\n",
        "    data_eval=data_eval.append(df[df['label']==i].copy(deep=False)[125:130])\n",
        "\n",
        "  for x in data_eval['boxid']:\n",
        "    foto=Image.open('./contest/images/'+str(x)+'.png')\n",
        "    foto = np.asarray( foto, dtype=\"float32\")\n",
        "    foto = (foto/127.5-1)\n",
        "    image = tf.image.resize(foto, (83,45))\n",
        "    label =data_eval[data_eval['boxid']==x]['label']\n",
        "    yield (image,label)\n",
        "train_dataset=tf.data.Dataset.from_generator(cr_training, output_types=(tf.float32, tf.int32),output_shapes=(tf.TensorShape([83,45,3]), tf.TensorShape([None])))\n",
        "test_dataset=tf.data.Dataset.from_generator(cr_test, output_types=(tf.float32, tf.int32),output_shapes=(tf.TensorShape([83,45,3]), tf.TensorShape([None])))\n",
        "eval_dataset=tf.data.Dataset.from_generator(cr_eval, output_types=(tf.float32, tf.int32),output_shapes=(tf.TensorShape([83,45,3]), tf.TensorShape([None])))\n",
        "\n",
        "#define target variable as one hot, also transform it to int to reduce memory needed\n",
        "def format_example(image, label):\n",
        "  label = tf.one_hot(label, 25)\n",
        "  label = tf.cast(label, tf.int32)\n",
        "  return image,label\n",
        "\n",
        "train_dataset.map(format_example)\n",
        "test_dataset.map(format_example)\n",
        "eval_dataset.map(format_example)\n",
        "#shuffle the data\n",
        "BATCH_SIZE =20\n",
        "SHUFFLE_BUFFER_SIZE = 1000\n",
        "train_batches = train_dataset.shuffle(SHUFFLE_BUFFER_SIZE).batch(BATCH_SIZE)\n",
        "validation_batches = eval_dataset.shuffle(SHUFFLE_BUFFER_SIZE).batch(BATCH_SIZE)\n",
        "test_batches = test_dataset.shuffle(SHUFFLE_BUFFER_SIZE).batch(BATCH_SIZE)\n"
      ],
      "execution_count": 0,
      "outputs": [
        {
          "output_type": "stream",
          "text": [
            "Go to this URL in a browser: https://accounts.google.com/o/oauth2/auth?client_id=947318989803-6bn6qk8qdgf4n4g3pfee6491hc0brc4i.apps.googleusercontent.com&redirect_uri=urn%3Aietf%3Awg%3Aoauth%3A2.0%3Aoob&scope=email%20https%3A%2F%2Fwww.googleapis.com%2Fauth%2Fdocs.test%20https%3A%2F%2Fwww.googleapis.com%2Fauth%2Fdrive%20https%3A%2F%2Fwww.googleapis.com%2Fauth%2Fdrive.photos.readonly%20https%3A%2F%2Fwww.googleapis.com%2Fauth%2Fpeopleapi.readonly&response_type=code\n",
            "\n",
            "Enter your authorization code:\n",
            "··········\n",
            "Mounted at /content/gdrive\n"
          ],
          "name": "stdout"
        }
      ]
    },
    {
      "cell_type": "markdown",
      "metadata": {
        "id": "ohAW7R14h2XF",
        "colab_type": "text"
      },
      "source": [
        "##Conctruct the model"
      ]
    },
    {
      "cell_type": "code",
      "metadata": {
        "id": "LbYNmpaDB10b",
        "colab_type": "code",
        "outputId": "c5822b8e-3527-4815-9877-7757c1ce0454",
        "colab": {
          "base_uri": "https://localhost:8080/",
          "height": 54
        }
      },
      "source": [
        "model = keras.models.Sequential([\n",
        "    keras.layers.Conv2D(32, (3, 3), padding='same', activation='relu',\n",
        "                 input_shape=(83, 45 ,3)),\n",
        "    keras.layers.MaxPooling2D(),\n",
        "    keras.layers.Conv2D(32,(3, 3) , activation='relu'),\n",
        "    keras.layers.MaxPooling2D(pool_size=(2, 2)),\n",
        "    keras.layers.Dropout(0.25),\n",
        "    keras.layers.Conv2D(64, (3, 3), padding='same', activation='relu'),\n",
        "    keras.layers.Conv2D(64, (3, 3), activation='relu'),\n",
        "    keras.layers.MaxPooling2D(pool_size=(2, 2)),\n",
        "    keras.layers.Dropout(0.25),\n",
        "\n",
        "    keras.layers.Flatten(),\n",
        "    keras.layers.Dense(512, activation='relu',kernel_regularizer=keras.regularizers.l2(0.001)),\n",
        "    keras.layers.Dropout(0.25),\n",
        "    keras.layers.Dense(25,activation='softmax')\n",
        "])\n"
      ],
      "execution_count": 0,
      "outputs": [
        {
          "output_type": "execute_result",
          "data": {
            "text/plain": [
              "\"model = Sequential()\\nmodel.add(Conv2D(32, (3, 3), padding='same',\\n                 input_shape=(83, 45 ,3)))\\nmodel.add(Activation('relu'))\\nmodel.add(Conv2D(32, (3, 3)))\\nmodel.add(Activation('relu'))\\nmodel.add(MaxPooling2D(pool_size=(2, 2)))\\nmodel.add(Dropout(0.25))\\n\\nmodel.add(Conv2D(64, (3, 3), padding='same'))\\nmodel.add(Activation('relu'))\\nmodel.add(Conv2D(64, (3, 3)))\\nmodel.add(Activation('relu'))\\nmodel.add(MaxPooling2D(pool_size=(2, 2)))\\nmodel.add(Dropout(0.25))\\n\\nmodel.add(Flatten())\\nmodel.add(Dense(512))\\nmodel.add(Activation('relu'))\\nmodel.add(Dropout(0.5))\\nmodel.add(Dense(25))\\nmodel.add(Activation('softmax'))\""
            ]
          },
          "metadata": {
            "tags": []
          },
          "execution_count": 3
        }
      ]
    },
    {
      "cell_type": "markdown",
      "metadata": {
        "id": "IlW-r7Djh8FR",
        "colab_type": "text"
      },
      "source": [
        "#Set the optimizer, loss, and train the model"
      ]
    },
    {
      "cell_type": "code",
      "metadata": {
        "id": "Xppi3dC0Bd1g",
        "colab_type": "code",
        "outputId": "6f31ea57-8726-4531-b951-14d1c2840374",
        "colab": {
          "base_uri": "https://localhost:8080/",
          "height": 1000
        }
      },
      "source": [
        "base_learning_rate = 0.001\n",
        "model.compile(optimizer=tf.keras.optimizers.RMSprop(lr=base_learning_rate),\n",
        "              loss='sparse_categorical_crossentropy',\n",
        "              metrics=['accuracy'])\n",
        "history = model.fit(train_batches,\n",
        "                    epochs=150,\n",
        "                    validation_data=test_batches)"
      ],
      "execution_count": 0,
      "outputs": [
        {
          "output_type": "stream",
          "text": [
            "Epoch 1/150\n",
            "157/157 [==============================] - 1025s 7s/step - loss: 2.3279 - accuracy: 0.3722 - val_loss: 0.0000e+00 - val_accuracy: 0.0000e+00\n",
            "Epoch 2/150\n",
            "157/157 [==============================] - 11s 71ms/step - loss: 1.2692 - accuracy: 0.6282 - val_loss: 1.4297 - val_accuracy: 0.5700\n",
            "Epoch 3/150\n",
            "157/157 [==============================] - 11s 71ms/step - loss: 0.9445 - accuracy: 0.7366 - val_loss: 1.0912 - val_accuracy: 0.6740\n",
            "Epoch 4/150\n",
            "157/157 [==============================] - 11s 71ms/step - loss: 0.7593 - accuracy: 0.8042 - val_loss: 1.0379 - val_accuracy: 0.7420\n",
            "Epoch 5/150\n",
            "157/157 [==============================] - 11s 70ms/step - loss: 0.6648 - accuracy: 0.8374 - val_loss: 0.8693 - val_accuracy: 0.7640\n",
            "Epoch 6/150\n",
            "157/157 [==============================] - 11s 70ms/step - loss: 0.5625 - accuracy: 0.8656 - val_loss: 0.9943 - val_accuracy: 0.7740\n",
            "Epoch 7/150\n",
            "157/157 [==============================] - 11s 71ms/step - loss: 0.5178 - accuracy: 0.8726 - val_loss: 0.8815 - val_accuracy: 0.7780\n",
            "Epoch 8/150\n",
            "157/157 [==============================] - 11s 72ms/step - loss: 0.4886 - accuracy: 0.8838 - val_loss: 0.7820 - val_accuracy: 0.8280\n",
            "Epoch 9/150\n",
            "157/157 [==============================] - 11s 71ms/step - loss: 0.4455 - accuracy: 0.9011 - val_loss: 0.7510 - val_accuracy: 0.8280\n",
            "Epoch 10/150\n",
            "157/157 [==============================] - 11s 70ms/step - loss: 0.4246 - accuracy: 0.9021 - val_loss: 0.6526 - val_accuracy: 0.8520\n",
            "Epoch 11/150\n",
            "157/157 [==============================] - 11s 71ms/step - loss: 0.4105 - accuracy: 0.9053 - val_loss: 0.6217 - val_accuracy: 0.8680\n",
            "Epoch 12/150\n",
            "157/157 [==============================] - 11s 71ms/step - loss: 0.3742 - accuracy: 0.9168 - val_loss: 0.6229 - val_accuracy: 0.8680\n",
            "Epoch 13/150\n",
            "157/157 [==============================] - 11s 71ms/step - loss: 0.3568 - accuracy: 0.9235 - val_loss: 1.2408 - val_accuracy: 0.7380\n",
            "Epoch 14/150\n",
            "157/157 [==============================] - 11s 71ms/step - loss: 0.3434 - accuracy: 0.9328 - val_loss: 0.6033 - val_accuracy: 0.8740\n",
            "Epoch 15/150\n",
            "157/157 [==============================] - 11s 72ms/step - loss: 0.3352 - accuracy: 0.9302 - val_loss: 0.5925 - val_accuracy: 0.8840\n",
            "Epoch 16/150\n",
            "157/157 [==============================] - 11s 70ms/step - loss: 0.3232 - accuracy: 0.9322 - val_loss: 1.0775 - val_accuracy: 0.7700\n",
            "Epoch 17/150\n",
            "157/157 [==============================] - 11s 71ms/step - loss: 0.3156 - accuracy: 0.9341 - val_loss: 0.5877 - val_accuracy: 0.8660\n",
            "Epoch 18/150\n",
            "157/157 [==============================] - 11s 70ms/step - loss: 0.3277 - accuracy: 0.9267 - val_loss: 0.5598 - val_accuracy: 0.8880\n",
            "Epoch 19/150\n",
            "157/157 [==============================] - 11s 70ms/step - loss: 0.2857 - accuracy: 0.9437 - val_loss: 0.6836 - val_accuracy: 0.8500\n",
            "Epoch 20/150\n",
            "157/157 [==============================] - 11s 70ms/step - loss: 0.2995 - accuracy: 0.9379 - val_loss: 0.6478 - val_accuracy: 0.8840\n",
            "Epoch 21/150\n",
            "157/157 [==============================] - 11s 70ms/step - loss: 0.2752 - accuracy: 0.9427 - val_loss: 1.0098 - val_accuracy: 0.8220\n",
            "Epoch 22/150\n",
            "157/157 [==============================] - 11s 71ms/step - loss: 0.2930 - accuracy: 0.9350 - val_loss: 0.6506 - val_accuracy: 0.8380\n",
            "Epoch 23/150\n",
            "157/157 [==============================] - 11s 72ms/step - loss: 0.2814 - accuracy: 0.9434 - val_loss: 0.6342 - val_accuracy: 0.8540\n",
            "Epoch 24/150\n",
            "157/157 [==============================] - 12s 73ms/step - loss: 0.2786 - accuracy: 0.9405 - val_loss: 0.7155 - val_accuracy: 0.8720\n",
            "Epoch 25/150\n",
            "157/157 [==============================] - 12s 74ms/step - loss: 0.2656 - accuracy: 0.9446 - val_loss: 0.8185 - val_accuracy: 0.8180\n",
            "Epoch 26/150\n",
            "157/157 [==============================] - 11s 70ms/step - loss: 0.2558 - accuracy: 0.9482 - val_loss: 0.8762 - val_accuracy: 0.8100\n",
            "Epoch 27/150\n",
            "157/157 [==============================] - 11s 71ms/step - loss: 0.2736 - accuracy: 0.9437 - val_loss: 0.6464 - val_accuracy: 0.8740\n",
            "Epoch 28/150\n",
            "157/157 [==============================] - 11s 71ms/step - loss: 0.2551 - accuracy: 0.9488 - val_loss: 0.5540 - val_accuracy: 0.8860\n",
            "Epoch 29/150\n",
            "157/157 [==============================] - 11s 71ms/step - loss: 0.2496 - accuracy: 0.9546 - val_loss: 0.5448 - val_accuracy: 0.8920\n",
            "Epoch 30/150\n",
            "157/157 [==============================] - 11s 71ms/step - loss: 0.2438 - accuracy: 0.9533 - val_loss: 0.5325 - val_accuracy: 0.9000\n",
            "Epoch 31/150\n",
            "157/157 [==============================] - 11s 70ms/step - loss: 0.2522 - accuracy: 0.9482 - val_loss: 0.7075 - val_accuracy: 0.8700\n",
            "Epoch 32/150\n",
            "157/157 [==============================] - 11s 70ms/step - loss: 0.2553 - accuracy: 0.9446 - val_loss: 0.4603 - val_accuracy: 0.8880\n",
            "Epoch 33/150\n",
            "157/157 [==============================] - 11s 71ms/step - loss: 0.2388 - accuracy: 0.9488 - val_loss: 0.6869 - val_accuracy: 0.8400\n",
            "Epoch 34/150\n",
            "157/157 [==============================] - 11s 70ms/step - loss: 0.2336 - accuracy: 0.9514 - val_loss: 0.6544 - val_accuracy: 0.8700\n",
            "Epoch 35/150\n",
            "157/157 [==============================] - 11s 71ms/step - loss: 0.2214 - accuracy: 0.9568 - val_loss: 0.5622 - val_accuracy: 0.9000\n",
            "Epoch 36/150\n",
            "157/157 [==============================] - 11s 71ms/step - loss: 0.2157 - accuracy: 0.9574 - val_loss: 0.5570 - val_accuracy: 0.8680\n",
            "Epoch 37/150\n",
            "157/157 [==============================] - 11s 71ms/step - loss: 0.2291 - accuracy: 0.9539 - val_loss: 0.6008 - val_accuracy: 0.8620\n",
            "Epoch 38/150\n",
            "157/157 [==============================] - 11s 71ms/step - loss: 0.2259 - accuracy: 0.9546 - val_loss: 0.7639 - val_accuracy: 0.8660\n",
            "Epoch 39/150\n",
            "157/157 [==============================] - 11s 71ms/step - loss: 0.2355 - accuracy: 0.9526 - val_loss: 0.5258 - val_accuracy: 0.8960\n",
            "Epoch 40/150\n",
            "157/157 [==============================] - 11s 71ms/step - loss: 0.2222 - accuracy: 0.9504 - val_loss: 0.5038 - val_accuracy: 0.9100\n",
            "Epoch 41/150\n",
            "157/157 [==============================] - 11s 70ms/step - loss: 0.2051 - accuracy: 0.9590 - val_loss: 0.8041 - val_accuracy: 0.8260\n",
            "Epoch 42/150\n",
            "157/157 [==============================] - 11s 71ms/step - loss: 0.2178 - accuracy: 0.9558 - val_loss: 0.4918 - val_accuracy: 0.8980\n",
            "Epoch 43/150\n",
            "157/157 [==============================] - 11s 70ms/step - loss: 0.2193 - accuracy: 0.9581 - val_loss: 0.4728 - val_accuracy: 0.9080\n",
            "Epoch 44/150\n",
            "157/157 [==============================] - 11s 72ms/step - loss: 0.2043 - accuracy: 0.9590 - val_loss: 0.6078 - val_accuracy: 0.8980\n",
            "Epoch 45/150\n",
            "157/157 [==============================] - 11s 71ms/step - loss: 0.2179 - accuracy: 0.9578 - val_loss: 0.5304 - val_accuracy: 0.9000\n",
            "Epoch 46/150\n",
            "157/157 [==============================] - 11s 70ms/step - loss: 0.2071 - accuracy: 0.9565 - val_loss: 0.4204 - val_accuracy: 0.9220\n",
            "Epoch 47/150\n",
            "157/157 [==============================] - 11s 71ms/step - loss: 0.1925 - accuracy: 0.9629 - val_loss: 0.4986 - val_accuracy: 0.9100\n",
            "Epoch 48/150\n",
            "157/157 [==============================] - 11s 71ms/step - loss: 0.1891 - accuracy: 0.9587 - val_loss: 0.4803 - val_accuracy: 0.9040\n",
            "Epoch 49/150\n",
            "157/157 [==============================] - 11s 71ms/step - loss: 0.1972 - accuracy: 0.9619 - val_loss: 0.5756 - val_accuracy: 0.8860\n",
            "Epoch 50/150\n",
            "157/157 [==============================] - 11s 71ms/step - loss: 0.2032 - accuracy: 0.9584 - val_loss: 0.8030 - val_accuracy: 0.8740\n",
            "Epoch 51/150\n",
            "157/157 [==============================] - 11s 73ms/step - loss: 0.2095 - accuracy: 0.9578 - val_loss: 0.4741 - val_accuracy: 0.9160\n",
            "Epoch 52/150\n",
            "157/157 [==============================] - 12s 74ms/step - loss: 0.1803 - accuracy: 0.9670 - val_loss: 0.6475 - val_accuracy: 0.8800\n",
            "Epoch 53/150\n",
            "157/157 [==============================] - 11s 73ms/step - loss: 0.2100 - accuracy: 0.9562 - val_loss: 0.4703 - val_accuracy: 0.9140\n",
            "Epoch 54/150\n",
            "157/157 [==============================] - 11s 71ms/step - loss: 0.1849 - accuracy: 0.9642 - val_loss: 0.3967 - val_accuracy: 0.9160\n",
            "Epoch 55/150\n",
            "157/157 [==============================] - 11s 71ms/step - loss: 0.1773 - accuracy: 0.9626 - val_loss: 0.6434 - val_accuracy: 0.8700\n",
            "Epoch 56/150\n",
            "157/157 [==============================] - 11s 71ms/step - loss: 0.1892 - accuracy: 0.9626 - val_loss: 0.5453 - val_accuracy: 0.8940\n",
            "Epoch 57/150\n",
            "157/157 [==============================] - 11s 71ms/step - loss: 0.1972 - accuracy: 0.9594 - val_loss: 0.7482 - val_accuracy: 0.8540\n",
            "Epoch 58/150\n",
            "157/157 [==============================] - 11s 71ms/step - loss: 0.1890 - accuracy: 0.9632 - val_loss: 0.4914 - val_accuracy: 0.9100\n",
            "Epoch 59/150\n",
            "157/157 [==============================] - 11s 71ms/step - loss: 0.1844 - accuracy: 0.9642 - val_loss: 0.5379 - val_accuracy: 0.9080\n",
            "Epoch 60/150\n",
            "157/157 [==============================] - 11s 71ms/step - loss: 0.2075 - accuracy: 0.9600 - val_loss: 0.3923 - val_accuracy: 0.9080\n",
            "Epoch 61/150\n",
            "157/157 [==============================] - 11s 71ms/step - loss: 0.1685 - accuracy: 0.9680 - val_loss: 0.4029 - val_accuracy: 0.9280\n",
            "Epoch 62/150\n",
            "157/157 [==============================] - 11s 70ms/step - loss: 0.1861 - accuracy: 0.9613 - val_loss: 0.4207 - val_accuracy: 0.9220\n",
            "Epoch 63/150\n",
            "157/157 [==============================] - 11s 70ms/step - loss: 0.1893 - accuracy: 0.9632 - val_loss: 1.0484 - val_accuracy: 0.8160\n",
            "Epoch 64/150\n",
            "157/157 [==============================] - 11s 70ms/step - loss: 0.1810 - accuracy: 0.9632 - val_loss: 0.8417 - val_accuracy: 0.8660\n",
            "Epoch 65/150\n",
            "157/157 [==============================] - 11s 71ms/step - loss: 0.1908 - accuracy: 0.9590 - val_loss: 0.6614 - val_accuracy: 0.8900\n",
            "Epoch 66/150\n",
            "157/157 [==============================] - 11s 72ms/step - loss: 0.2020 - accuracy: 0.9603 - val_loss: 0.4777 - val_accuracy: 0.9120\n",
            "Epoch 67/150\n",
            "157/157 [==============================] - 11s 71ms/step - loss: 0.1894 - accuracy: 0.9626 - val_loss: 0.6125 - val_accuracy: 0.9080\n",
            "Epoch 68/150\n",
            "157/157 [==============================] - 11s 70ms/step - loss: 0.1764 - accuracy: 0.9613 - val_loss: 0.6024 - val_accuracy: 0.8660\n",
            "Epoch 69/150\n",
            "157/157 [==============================] - 11s 71ms/step - loss: 0.1650 - accuracy: 0.9686 - val_loss: 0.6259 - val_accuracy: 0.8760\n",
            "Epoch 70/150\n",
            "157/157 [==============================] - 11s 71ms/step - loss: 0.1826 - accuracy: 0.9606 - val_loss: 0.5693 - val_accuracy: 0.8860\n",
            "Epoch 71/150\n",
            "157/157 [==============================] - 11s 71ms/step - loss: 0.1938 - accuracy: 0.9616 - val_loss: 0.4652 - val_accuracy: 0.9200\n",
            "Epoch 72/150\n",
            "157/157 [==============================] - 11s 71ms/step - loss: 0.1658 - accuracy: 0.9648 - val_loss: 0.5040 - val_accuracy: 0.9260\n",
            "Epoch 73/150\n",
            "157/157 [==============================] - 11s 72ms/step - loss: 0.1820 - accuracy: 0.9651 - val_loss: 0.3965 - val_accuracy: 0.9200\n",
            "Epoch 74/150\n",
            "157/157 [==============================] - 11s 70ms/step - loss: 0.1640 - accuracy: 0.9651 - val_loss: 0.8873 - val_accuracy: 0.8360\n",
            "Epoch 75/150\n",
            "157/157 [==============================] - 11s 71ms/step - loss: 0.2045 - accuracy: 0.9632 - val_loss: 0.3829 - val_accuracy: 0.9340\n",
            "Epoch 76/150\n",
            "157/157 [==============================] - 11s 71ms/step - loss: 0.1649 - accuracy: 0.9645 - val_loss: 0.4415 - val_accuracy: 0.9260\n",
            "Epoch 77/150\n",
            "157/157 [==============================] - 11s 71ms/step - loss: 0.1821 - accuracy: 0.9645 - val_loss: 0.4756 - val_accuracy: 0.9220\n",
            "Epoch 78/150\n",
            "157/157 [==============================] - 11s 73ms/step - loss: 0.1667 - accuracy: 0.9648 - val_loss: 0.5059 - val_accuracy: 0.8880\n",
            "Epoch 79/150\n",
            "157/157 [==============================] - 11s 70ms/step - loss: 0.1640 - accuracy: 0.9693 - val_loss: 0.5332 - val_accuracy: 0.8900\n",
            "Epoch 80/150\n",
            "157/157 [==============================] - 12s 76ms/step - loss: 0.1595 - accuracy: 0.9693 - val_loss: 0.5936 - val_accuracy: 0.8860\n",
            "Epoch 81/150\n",
            "157/157 [==============================] - 11s 72ms/step - loss: 0.1723 - accuracy: 0.9642 - val_loss: 0.4907 - val_accuracy: 0.9120\n",
            "Epoch 82/150\n",
            "157/157 [==============================] - 11s 72ms/step - loss: 0.1506 - accuracy: 0.9702 - val_loss: 0.5547 - val_accuracy: 0.9020\n",
            "Epoch 83/150\n",
            "157/157 [==============================] - 11s 70ms/step - loss: 0.1939 - accuracy: 0.9632 - val_loss: 0.4200 - val_accuracy: 0.9240\n",
            "Epoch 84/150\n",
            "157/157 [==============================] - 11s 71ms/step - loss: 0.1785 - accuracy: 0.9658 - val_loss: 0.4204 - val_accuracy: 0.9200\n",
            "Epoch 85/150\n",
            "157/157 [==============================] - 11s 70ms/step - loss: 0.1547 - accuracy: 0.9661 - val_loss: 0.4474 - val_accuracy: 0.9180\n",
            "Epoch 86/150\n",
            "157/157 [==============================] - 11s 70ms/step - loss: 0.1922 - accuracy: 0.9632 - val_loss: 0.4353 - val_accuracy: 0.9100\n",
            "Epoch 87/150\n",
            "157/157 [==============================] - 11s 72ms/step - loss: 0.1543 - accuracy: 0.9664 - val_loss: 0.5427 - val_accuracy: 0.8820\n",
            "Epoch 88/150\n",
            "157/157 [==============================] - 11s 71ms/step - loss: 0.1687 - accuracy: 0.9661 - val_loss: 0.3706 - val_accuracy: 0.9220\n",
            "Epoch 89/150\n",
            "157/157 [==============================] - 11s 70ms/step - loss: 0.1568 - accuracy: 0.9696 - val_loss: 0.4983 - val_accuracy: 0.9040\n",
            "Epoch 90/150\n",
            "157/157 [==============================] - 11s 71ms/step - loss: 0.1679 - accuracy: 0.9651 - val_loss: 0.4690 - val_accuracy: 0.9180\n",
            "Epoch 91/150\n",
            "157/157 [==============================] - 11s 71ms/step - loss: 0.1643 - accuracy: 0.9670 - val_loss: 0.5540 - val_accuracy: 0.9100\n",
            "Epoch 92/150\n",
            "157/157 [==============================] - 11s 71ms/step - loss: 0.1596 - accuracy: 0.9728 - val_loss: 0.4271 - val_accuracy: 0.9200\n",
            "Epoch 93/150\n",
            "157/157 [==============================] - 11s 71ms/step - loss: 0.1600 - accuracy: 0.9686 - val_loss: 0.4976 - val_accuracy: 0.9080\n",
            "Epoch 94/150\n",
            "157/157 [==============================] - 11s 71ms/step - loss: 0.1575 - accuracy: 0.9686 - val_loss: 0.5040 - val_accuracy: 0.9120\n",
            "Epoch 95/150\n",
            "157/157 [==============================] - 11s 71ms/step - loss: 0.1617 - accuracy: 0.9674 - val_loss: 0.4860 - val_accuracy: 0.9200\n",
            "Epoch 96/150\n",
            "157/157 [==============================] - 11s 71ms/step - loss: 0.1531 - accuracy: 0.9658 - val_loss: 0.6383 - val_accuracy: 0.8680\n",
            "Epoch 97/150\n",
            "157/157 [==============================] - 11s 71ms/step - loss: 0.1568 - accuracy: 0.9706 - val_loss: 0.4508 - val_accuracy: 0.9160\n",
            "Epoch 98/150\n",
            "157/157 [==============================] - 12s 74ms/step - loss: 0.1838 - accuracy: 0.9661 - val_loss: 0.5250 - val_accuracy: 0.8780\n",
            "Epoch 99/150\n",
            "157/157 [==============================] - 11s 73ms/step - loss: 0.1658 - accuracy: 0.9616 - val_loss: 0.4884 - val_accuracy: 0.9080\n",
            "Epoch 100/150\n",
            "157/157 [==============================] - 11s 73ms/step - loss: 0.1490 - accuracy: 0.9702 - val_loss: 0.4492 - val_accuracy: 0.9140\n",
            "Epoch 101/150\n",
            "157/157 [==============================] - 11s 73ms/step - loss: 0.1575 - accuracy: 0.9667 - val_loss: 0.3884 - val_accuracy: 0.9280\n",
            "Epoch 102/150\n",
            "157/157 [==============================] - 11s 72ms/step - loss: 0.1479 - accuracy: 0.9683 - val_loss: 0.5064 - val_accuracy: 0.8920\n",
            "Epoch 103/150\n",
            "157/157 [==============================] - 11s 71ms/step - loss: 0.1474 - accuracy: 0.9683 - val_loss: 0.4271 - val_accuracy: 0.9220\n",
            "Epoch 104/150\n",
            "157/157 [==============================] - 11s 72ms/step - loss: 0.1391 - accuracy: 0.9728 - val_loss: 0.4042 - val_accuracy: 0.9180\n",
            "Epoch 105/150\n",
            "157/157 [==============================] - 11s 72ms/step - loss: 0.1593 - accuracy: 0.9690 - val_loss: 0.4987 - val_accuracy: 0.9020\n",
            "Epoch 106/150\n",
            "157/157 [==============================] - 11s 72ms/step - loss: 0.1621 - accuracy: 0.9674 - val_loss: 0.4377 - val_accuracy: 0.9280\n",
            "Epoch 107/150\n",
            "157/157 [==============================] - 11s 71ms/step - loss: 0.1634 - accuracy: 0.9686 - val_loss: 0.4567 - val_accuracy: 0.9000\n",
            "Epoch 108/150\n",
            "157/157 [==============================] - 12s 76ms/step - loss: 0.1382 - accuracy: 0.9712 - val_loss: 0.6395 - val_accuracy: 0.8660\n",
            "Epoch 109/150\n",
            "157/157 [==============================] - 11s 72ms/step - loss: 0.1541 - accuracy: 0.9693 - val_loss: 0.5538 - val_accuracy: 0.8960\n",
            "Epoch 110/150\n",
            "157/157 [==============================] - 11s 70ms/step - loss: 0.1371 - accuracy: 0.9734 - val_loss: 0.4440 - val_accuracy: 0.9140\n",
            "Epoch 111/150\n",
            "157/157 [==============================] - 12s 75ms/step - loss: 0.1604 - accuracy: 0.9686 - val_loss: 0.4514 - val_accuracy: 0.9260\n",
            "Epoch 112/150\n",
            "157/157 [==============================] - 11s 71ms/step - loss: 0.1546 - accuracy: 0.9725 - val_loss: 0.4832 - val_accuracy: 0.9140\n",
            "Epoch 113/150\n",
            "157/157 [==============================] - 11s 71ms/step - loss: 0.1518 - accuracy: 0.9718 - val_loss: 0.4445 - val_accuracy: 0.9080\n",
            "Epoch 114/150\n",
            "157/157 [==============================] - 11s 71ms/step - loss: 0.1355 - accuracy: 0.9718 - val_loss: 0.4419 - val_accuracy: 0.9140\n",
            "Epoch 115/150\n",
            "157/157 [==============================] - 11s 72ms/step - loss: 0.1543 - accuracy: 0.9683 - val_loss: 0.4206 - val_accuracy: 0.9220\n",
            "Epoch 116/150\n",
            "157/157 [==============================] - 11s 72ms/step - loss: 0.1319 - accuracy: 0.9747 - val_loss: 0.4116 - val_accuracy: 0.9120\n",
            "Epoch 117/150\n",
            "157/157 [==============================] - 11s 71ms/step - loss: 0.1508 - accuracy: 0.9654 - val_loss: 0.3759 - val_accuracy: 0.9200\n",
            "Epoch 118/150\n",
            "157/157 [==============================] - 11s 71ms/step - loss: 0.1624 - accuracy: 0.9635 - val_loss: 0.4419 - val_accuracy: 0.8900\n",
            "Epoch 119/150\n",
            "157/157 [==============================] - 11s 71ms/step - loss: 0.1399 - accuracy: 0.9722 - val_loss: 0.4515 - val_accuracy: 0.9240\n",
            "Epoch 120/150\n",
            "157/157 [==============================] - 11s 71ms/step - loss: 0.1540 - accuracy: 0.9693 - val_loss: 0.4903 - val_accuracy: 0.9200\n",
            "Epoch 121/150\n",
            "157/157 [==============================] - 11s 72ms/step - loss: 0.1567 - accuracy: 0.9706 - val_loss: 0.4666 - val_accuracy: 0.9300\n",
            "Epoch 122/150\n",
            "157/157 [==============================] - 11s 71ms/step - loss: 0.1478 - accuracy: 0.9683 - val_loss: 0.3763 - val_accuracy: 0.9340\n",
            "Epoch 123/150\n",
            "157/157 [==============================] - 11s 72ms/step - loss: 0.1471 - accuracy: 0.9690 - val_loss: 0.4340 - val_accuracy: 0.9220\n",
            "Epoch 124/150\n",
            "157/157 [==============================] - 11s 72ms/step - loss: 0.1408 - accuracy: 0.9693 - val_loss: 0.4470 - val_accuracy: 0.9020\n",
            "Epoch 125/150\n",
            "157/157 [==============================] - 11s 72ms/step - loss: 0.1325 - accuracy: 0.9725 - val_loss: 0.4288 - val_accuracy: 0.9200\n",
            "Epoch 126/150\n",
            "157/157 [==============================] - 11s 72ms/step - loss: 0.1438 - accuracy: 0.9738 - val_loss: 0.4777 - val_accuracy: 0.9080\n",
            "Epoch 127/150\n",
            "157/157 [==============================] - 11s 72ms/step - loss: 0.1614 - accuracy: 0.9674 - val_loss: 0.6414 - val_accuracy: 0.8980\n",
            "Epoch 128/150\n",
            "157/157 [==============================] - 11s 71ms/step - loss: 0.1599 - accuracy: 0.9715 - val_loss: 0.3619 - val_accuracy: 0.9460\n",
            "Epoch 129/150\n",
            "157/157 [==============================] - 11s 71ms/step - loss: 0.1435 - accuracy: 0.9702 - val_loss: 0.5043 - val_accuracy: 0.9240\n",
            "Epoch 130/150\n",
            "157/157 [==============================] - 11s 73ms/step - loss: 0.1536 - accuracy: 0.9718 - val_loss: 0.4192 - val_accuracy: 0.9260\n",
            "Epoch 131/150\n",
            "157/157 [==============================] - 11s 72ms/step - loss: 0.1542 - accuracy: 0.9702 - val_loss: 0.3896 - val_accuracy: 0.9320\n",
            "Epoch 132/150\n",
            "157/157 [==============================] - 11s 72ms/step - loss: 0.1273 - accuracy: 0.9754 - val_loss: 0.6604 - val_accuracy: 0.8640\n",
            "Epoch 133/150\n",
            "157/157 [==============================] - 11s 72ms/step - loss: 0.1451 - accuracy: 0.9690 - val_loss: 0.4455 - val_accuracy: 0.9080\n",
            "Epoch 134/150\n",
            "157/157 [==============================] - 11s 71ms/step - loss: 0.1544 - accuracy: 0.9686 - val_loss: 0.4389 - val_accuracy: 0.9120\n",
            "Epoch 135/150\n",
            "157/157 [==============================] - 12s 74ms/step - loss: 0.1375 - accuracy: 0.9725 - val_loss: 0.4837 - val_accuracy: 0.9200\n",
            "Epoch 136/150\n",
            "157/157 [==============================] - 12s 73ms/step - loss: 0.1481 - accuracy: 0.9696 - val_loss: 0.4610 - val_accuracy: 0.9240\n",
            "Epoch 137/150\n",
            "157/157 [==============================] - 11s 72ms/step - loss: 0.1360 - accuracy: 0.9728 - val_loss: 0.4370 - val_accuracy: 0.9260\n",
            "Epoch 138/150\n",
            "157/157 [==============================] - 11s 72ms/step - loss: 0.1321 - accuracy: 0.9754 - val_loss: 0.4203 - val_accuracy: 0.9140\n",
            "Epoch 139/150\n",
            "157/157 [==============================] - 11s 70ms/step - loss: 0.1626 - accuracy: 0.9696 - val_loss: 0.4933 - val_accuracy: 0.9080\n",
            "Epoch 140/150\n",
            "157/157 [==============================] - 11s 72ms/step - loss: 0.1351 - accuracy: 0.9702 - val_loss: 0.4981 - val_accuracy: 0.8860\n",
            "Epoch 141/150\n",
            "157/157 [==============================] - 11s 72ms/step - loss: 0.1409 - accuracy: 0.9750 - val_loss: 0.3502 - val_accuracy: 0.9420\n",
            "Epoch 142/150\n",
            "157/157 [==============================] - 11s 71ms/step - loss: 0.1407 - accuracy: 0.9760 - val_loss: 0.3417 - val_accuracy: 0.9260\n",
            "Epoch 143/150\n",
            "157/157 [==============================] - 11s 72ms/step - loss: 0.1335 - accuracy: 0.9680 - val_loss: 0.4142 - val_accuracy: 0.9080\n",
            "Epoch 144/150\n",
            "157/157 [==============================] - 11s 73ms/step - loss: 0.1432 - accuracy: 0.9728 - val_loss: 0.7281 - val_accuracy: 0.8560\n",
            "Epoch 145/150\n",
            "157/157 [==============================] - 11s 72ms/step - loss: 0.1588 - accuracy: 0.9706 - val_loss: 0.4546 - val_accuracy: 0.9140\n",
            "Epoch 146/150\n",
            "157/157 [==============================] - 11s 73ms/step - loss: 0.1264 - accuracy: 0.9747 - val_loss: 0.5194 - val_accuracy: 0.9020\n",
            "Epoch 147/150\n",
            "157/157 [==============================] - 11s 72ms/step - loss: 0.1361 - accuracy: 0.9683 - val_loss: 0.4600 - val_accuracy: 0.9100\n",
            "Epoch 148/150\n",
            "157/157 [==============================] - 11s 72ms/step - loss: 0.1235 - accuracy: 0.9722 - val_loss: 0.3698 - val_accuracy: 0.9200\n",
            "Epoch 149/150\n",
            "157/157 [==============================] - 11s 72ms/step - loss: 0.1372 - accuracy: 0.9718 - val_loss: 0.4260 - val_accuracy: 0.9180\n",
            "Epoch 150/150\n",
            "157/157 [==============================] - 11s 71ms/step - loss: 0.1574 - accuracy: 0.9696 - val_loss: 0.4119 - val_accuracy: 0.9140\n"
          ],
          "name": "stdout"
        }
      ]
    },
    {
      "cell_type": "markdown",
      "metadata": {
        "id": "gyRTpWXsiHE6",
        "colab_type": "text"
      },
      "source": [
        "#Evaluate model with previously unseen data, and get approx. 90% accuracy"
      ]
    },
    {
      "cell_type": "code",
      "metadata": {
        "id": "olCegY_Hib-V",
        "colab_type": "code",
        "outputId": "0c8e94ed-7cb6-4d8c-d18e-6c7255fc5a5e",
        "colab": {
          "base_uri": "https://localhost:8080/",
          "height": 34
        }
      },
      "source": [
        "scores=model.evaluate(validation_batches)"
      ],
      "execution_count": 0,
      "outputs": [
        {
          "output_type": "stream",
          "text": [
            "7/7 [==============================] - 35s 5s/step - loss: 0.5413 - accuracy: 0.8800\n"
          ],
          "name": "stdout"
        }
      ]
    },
    {
      "cell_type": "markdown",
      "metadata": {
        "id": "SHw4l6baiqcA",
        "colab_type": "text"
      },
      "source": [
        "#Save the model to deploy it"
      ]
    },
    {
      "cell_type": "code",
      "metadata": {
        "id": "15NqbNXZiyVy",
        "colab_type": "code",
        "colab": {}
      },
      "source": [
        "model.save('my_model.h5') "
      ],
      "execution_count": 0,
      "outputs": []
    }
  ]
}